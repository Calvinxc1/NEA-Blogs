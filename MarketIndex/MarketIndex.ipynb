{
 "cells": [
  {
   "cell_type": "code",
   "execution_count": null,
   "metadata": {},
   "outputs": [],
   "source": [
    "import pandas as pd\n",
    "import numpy as np\n",
    "import matplotlib.pyplot as plt\n",
    "import seaborn as sns\n",
    "from sqlalchemy import create_engine\n",
    "from sqlalchemy.orm import sessionmaker\n",
    "from datetime import date, datetime as dt\n",
    "from scipy.special import factorial\n",
    "import scipy.stats as scipy\n",
    "from tqdm.notebook import trange\n",
    "\n",
    "sns.set()\n",
    "\n",
    "from nea_schema.esi.mkt import MarketHist\n",
    "from nea_schema.sde.map import Region\n",
    "from nea_schema.sde.inv import Type\n",
    "from config.config import sql_params"
   ]
  },
  {
   "cell_type": "code",
   "execution_count": null,
   "metadata": {},
   "outputs": [],
   "source": [
    "engine = create_engine('{engine}://{user}:{passwd}@{host}/{db}'.format(**sql_params))\n",
    "Session = sessionmaker(bind=engine)\n",
    "conn = Session()"
   ]
  },
  {
   "cell_type": "code",
   "execution_count": null,
   "metadata": {},
   "outputs": [],
   "source": [
    "regions = pd.DataFrame([\n",
    "    {'region_id': region.region_id, 'region_name': region.name.item_name}\n",
    "    for region in conn.query(Region)\n",
    "]).set_index('region_id')['region_name']\n",
    "region_ids = regions.index[regions == 'Domain'].values.astype(str)"
   ]
  },
  {
   "cell_type": "code",
   "execution_count": null,
   "metadata": {},
   "outputs": [],
   "source": [
    "types = pd.DataFrame([\n",
    "    {'type_id': type.type_id, 'type_name': type.type_name}\n",
    "    for type in conn.query(Type)\n",
    "]).set_index('type_id')['type_name']\n",
    "type_ids = types.loc[34:40].index.values.astype(str)"
   ]
  },
  {
   "cell_type": "code",
   "execution_count": null,
   "metadata": {},
   "outputs": [],
   "source": [
    "start_date = '2018-12-31'\n",
    "end_date = '2020-01-01'\n",
    "result = conn.query(MarketHist)\\\n",
    "    .filter(MarketHist.region_id.in_(region_ids))\\\n",
    "    .filter(MarketHist.type_id.in_(type_ids))\\\n",
    "    .filter(MarketHist.record_date >= start_date)\\\n",
    "    .filter(MarketHist.record_date < end_date)\n",
    "mkt_hist_raw = pd.read_sql(result.statement, result.session.bind)"
   ]
  },
  {
   "cell_type": "code",
   "execution_count": null,
   "metadata": {},
   "outputs": [],
   "source": [
    "avg_hist = pd.DataFrame(index=pd.date_range(mkt_hist_raw['record_date'].min(), mkt_hist_raw['record_date'].max()))\n",
    "vol_hist = pd.DataFrame(index=pd.date_range(mkt_hist_raw['record_date'].min(), mkt_hist_raw['record_date'].max()))\n",
    "for grp, data in mkt_hist_raw.groupby('type_id'):\n",
    "    avg_hist = avg_hist.join(data.set_index('record_date')['average'].rename(grp))\n",
    "    vol_hist = vol_hist.join(data.set_index('record_date')['volume'].rename(grp))\n",
    "avg_hist = avg_hist.fillna(method='ffill').fillna(method='bfill')\n",
    "vol_hist = vol_hist.fillna(0)"
   ]
  },
  {
   "cell_type": "code",
   "execution_count": null,
   "metadata": {},
   "outputs": [],
   "source": [
    "plt.figure(figsize=(12,4))\n",
    "p = sns.lineplot(x=avg_hist.index, y=avg_hist[34].rename('Tritanium'))\n",
    "_ = p.set(xlabel='Date', ylabel='Average Price', title='Average Transaction Price of Tritanium\\nCalendar Year 2019')\n",
    "p.set_xlim(dt(2019,1,1), dt(2020,1,1))\n",
    "plt.tight_layout()\n",
    "p.get_figure().savefig('avg_trit_cy2019.png')"
   ]
  },
  {
   "cell_type": "code",
   "execution_count": null,
   "metadata": {},
   "outputs": [],
   "source": [
    "plt.figure(figsize=(12,4))\n",
    "p = sns.lineplot(x=avg_hist.index, y=avg_hist[37].rename('Isogen'))\n",
    "_ = p.set(xlabel='Date', ylabel='Average Price', title='Average Transaction Price of Isogen\\nCalendar Year 2019')\n",
    "p.set_xlim(dt(2019,1,1), dt(2020,1,1))\n",
    "plt.tight_layout()\n",
    "p.get_figure().savefig('avg_iso_cy2019.png')"
   ]
  },
  {
   "cell_type": "code",
   "execution_count": null,
   "metadata": {},
   "outputs": [],
   "source": [
    "fig, ax = plt.subplots(2, figsize=(12,8))\n",
    "\n",
    "p1 = sns.lineplot(x=vol_hist.index, y=vol_hist[34].rename('Tritanium'), ax=ax[0])\n",
    "_ = p1.set(xlabel='Date', ylabel='Volume', title='Volume Transacted of Tritanium\\nCalendar Year 2019')\n",
    "_ = p1.set_xlim(dt(2019,1,1), dt(2020,1,1))\n",
    "\n",
    "p2 = sns.lineplot(x=vol_hist.index, y=vol_hist[37].rename('Isogen'), ax=ax[1])\n",
    "_ = p2.set(xlabel='Date', ylabel='Volume', title='Volume Transacted of Isogen\\nCalendar Year 2019')\n",
    "_ = p2.set_xlim(dt(2019,1,1), dt(2020,1,1))\n",
    "\n",
    "plt.tight_layout()\n",
    "fig.savefig('vol_trit_iso_cy2019.png')"
   ]
  },
  {
   "cell_type": "code",
   "execution_count": null,
   "metadata": {},
   "outputs": [],
   "source": [
    "log_returns = np.log(avg_hist / avg_hist.shift(1)).iloc[1:]"
   ]
  },
  {
   "cell_type": "code",
   "execution_count": null,
   "metadata": {},
   "outputs": [],
   "source": [
    "fig, ax = plt.subplots(2, figsize=(12,8))\n",
    "\n",
    "p1 = sns.lineplot(x=log_returns.index, y=log_returns[34].rename('Tritanium'), ax=ax[0])\n",
    "_ = p1.set(xlabel='Date', ylabel='Log Return', title='Log Returns of Tritanium\\nCalendar Year 2019')\n",
    "_ = p1.set_xlim(dt(2019,1,1), dt(2020,1,1))\n",
    "\n",
    "p2 = sns.lineplot(x=log_returns.index, y=log_returns[37].rename('Isogen'), ax=ax[1])\n",
    "_ = p2.set(xlabel='Date', ylabel='Log Return', title='Log Returns of Isogen\\nCalendar Year 2019')\n",
    "_ = p2.set_xlim(dt(2019,1,1), dt(2020,1,1))\n",
    "\n",
    "plt.tight_layout()\n",
    "fig.savefig('lnret_trit_iso_cy2019.png')"
   ]
  },
  {
   "cell_type": "code",
   "execution_count": null,
   "metadata": {},
   "outputs": [],
   "source": [
    "log_returns.mean(axis=0)"
   ]
  },
  {
   "cell_type": "code",
   "execution_count": null,
   "metadata": {},
   "outputs": [],
   "source": [
    "colors = pd.DataFrame([\n",
    "    ['Tritanium', '#e6ab02'],\n",
    "    ['Pyerite', '#d95f02'],\n",
    "    ['Mexallon', '#66a61e'],\n",
    "    ['Isogen', '#7570b3'],\n",
    "    ['Nocxium', '#a6761d'],\n",
    "    ['Zydrine', '#1b9e77'],\n",
    "    ['Megacyte', '#e7298a'],\n",
    "], index = np.arange(34,41), columns=['title', 'color'])"
   ]
  },
  {
   "cell_type": "code",
   "execution_count": null,
   "metadata": {},
   "outputs": [],
   "source": [
    "vol_ratios = vol_hist / vol_hist.sum(axis=1).values[:,np.newaxis]"
   ]
  },
  {
   "cell_type": "code",
   "execution_count": null,
   "metadata": {},
   "outputs": [],
   "source": [
    "vol_cum_ratios = vol_ratios.cumsum(axis=1)\n",
    "vol_cum_ratios.insert(0, 'base', 0)\n",
    "plt.figure(figsize=(12,8))\n",
    "for i in range(1, vol_cum_ratios.columns.size):\n",
    "    plt.fill_between(\n",
    "        x=vol_cum_ratios.index,\n",
    "        y1=vol_cum_ratios.iloc[:,i-1],\n",
    "        y2=vol_cum_ratios.iloc[:,i],\n",
    "        color=colors.iloc[i-1]['color'],\n",
    "        label=colors.iloc[i-1]['title'],\n",
    "    )\n",
    "_ = plt.xlim(dt(2019,1,1), dt(2020,1,1))\n",
    "_ = plt.ylim(0,1)\n",
    "_ = plt.legend(loc=3)\n",
    "_ = plt.xlabel('Date')\n",
    "_ = plt.ylabel('Volume Proportion')\n",
    "_ = plt.title('Core Minerals Volume Proportion by Day\\nCalendar Year 2019')\n",
    "plt.tight_layout()\n",
    "plt.savefig('vol_prop_minerals_cy2019.png')"
   ]
  },
  {
   "cell_type": "code",
   "execution_count": null,
   "metadata": {},
   "outputs": [],
   "source": [
    "vol_ratios.max(axis=0)"
   ]
  },
  {
   "cell_type": "code",
   "execution_count": null,
   "metadata": {},
   "outputs": [],
   "source": [
    "value_hist = avg_hist * vol_hist"
   ]
  },
  {
   "cell_type": "code",
   "execution_count": null,
   "metadata": {},
   "outputs": [],
   "source": [
    "fig, ax = plt.subplots(2, figsize=(12,8))\n",
    "\n",
    "p1 = sns.lineplot(x=value_hist.index, y=value_hist[34].rename('Tritanium'), ax=ax[0])\n",
    "_ = p1.set(xlabel='Date', ylabel='Value', title='Market Value of Tritanium\\nCalendar Year 2019')\n",
    "_ = p1.set_xlim(dt(2019,1,1), dt(2020,1,1))\n",
    "\n",
    "p2 = sns.lineplot(x=value_hist.index, y=value_hist[37].rename('Isogen'), ax=ax[1])\n",
    "_ = p2.set(xlabel='Date', ylabel='Value', title='Market Value of Isogen\\nCalendar Year 2019')\n",
    "_ = p2.set_xlim(dt(2019,1,1), dt(2020,1,1))\n",
    "\n",
    "plt.tight_layout()\n",
    "fig.savefig('value_trit_iso_cy2019.png')"
   ]
  },
  {
   "cell_type": "code",
   "execution_count": null,
   "metadata": {},
   "outputs": [],
   "source": [
    "value_ratios = value_hist / value_hist.sum(axis=1).values[:,np.newaxis]\n",
    "value_cum_ratios = value_ratios.cumsum(axis=1)\n",
    "value_cum_ratios.insert(0, 'base', 0)\n",
    "plt.figure(figsize=(12,8))\n",
    "for i in range(1, value_cum_ratios.columns.size):\n",
    "    plt.fill_between(\n",
    "        x=value_cum_ratios.index,\n",
    "        y1=value_cum_ratios.iloc[:,i-1],\n",
    "        y2=value_cum_ratios.iloc[:,i],\n",
    "        color=colors.iloc[i-1]['color'],\n",
    "        label=colors.iloc[i-1]['title'],\n",
    "    )\n",
    "_ = plt.xlim(dt(2019,1,1), dt(2020,1,1))\n",
    "_ = plt.ylim(0,1)\n",
    "_ = plt.legend(loc=3)\n",
    "_ = plt.xlabel('Date')\n",
    "_ = plt.ylabel('Value Proportion')\n",
    "_ = plt.title('Core Minerals Market Value Proportion by Day\\nCalendar Year 2019')\n",
    "plt.tight_layout()\n",
    "plt.savefig('value_prop_minerals_cy2019.png')"
   ]
  },
  {
   "cell_type": "code",
   "execution_count": null,
   "metadata": {},
   "outputs": [],
   "source": [
    "value_ratios.mean(axis=0)"
   ]
  },
  {
   "cell_type": "code",
   "execution_count": null,
   "metadata": {},
   "outputs": [],
   "source": [
    "cum_log_returns = log_returns.cumsum(axis=0)"
   ]
  },
  {
   "cell_type": "code",
   "execution_count": null,
   "metadata": {},
   "outputs": [],
   "source": [
    "fig, ax = plt.subplots(2, figsize=(12,8))\n",
    "\n",
    "p1 = sns.lineplot(x=cum_log_returns.index, y=cum_log_returns[34].rename('Tritanium'), ax=ax[0])\n",
    "_ = p1.set(xlabel='Date', ylabel='Cumulative Log Returns', title='Cumulative Log Returns of Tritanium\\nCalendar Year 2019')\n",
    "_ = p1.set_xlim(dt(2019,1,1), dt(2020,1,1))\n",
    "\n",
    "p2 = sns.lineplot(x=cum_log_returns.index, y=cum_log_returns[37].rename('Isogen'), ax=ax[1])\n",
    "_ = p2.set(xlabel='Date', ylabel='Cumulative Log Returns', title='Cumulative Log Returns of Isogen\\nCalendar Year 2019')\n",
    "_ = p2.set_xlim(dt(2019,1,1), dt(2020,1,1))\n",
    "\n",
    "plt.tight_layout()\n",
    "fig.savefig('cumlogret_trit_iso_cy2019.png')"
   ]
  },
  {
   "cell_type": "code",
   "execution_count": null,
   "metadata": {},
   "outputs": [],
   "source": [
    "plt.figure(figsize=(12,8))\n",
    "plt.axhline(0, color='#000000')\n",
    "for idx, color_data in colors.iterrows():\n",
    "    sns.lineplot(x=cum_log_returns.index, y=cum_log_returns[idx].rename(color_data['title']), label=color_data['title'], color=color_data['color'])\n",
    "\n",
    "_ = plt.xlim(dt(2019,1,1), dt(2020,1,1))\n",
    "_ = plt.legend(loc=3)\n",
    "_ = plt.xlabel('Date')\n",
    "_ = plt.ylabel('Cumulative Log Returns')\n",
    "_ = plt.title('Core Minerals Market Cumulative Log Returns by Day\\nFrom January 1, 2019, for Calendar Year 2019')\n",
    "plt.tight_layout()\n",
    "plt.savefig('cumlogret_minerals_cy2019.png')"
   ]
  },
  {
   "cell_type": "code",
   "execution_count": null,
   "metadata": {},
   "outputs": [],
   "source": [
    "index_value = (cum_log_returns * value_ratios.iloc[1:]).sum(axis=1)"
   ]
  },
  {
   "cell_type": "code",
   "execution_count": null,
   "metadata": {},
   "outputs": [],
   "source": [
    "plt.figure(figsize=(12,8))\n",
    "p = sns.lineplot(x=index_value.index, y=index_value.rename('Core Minerals Index'))\n",
    "_ = p.set(xlabel='Date', ylabel='Index Value', title='Core Minerals Index\\nCalendar Year 2019')\n",
    "p.set_xlim(dt(2019,1,1), dt(2020,1,1))\n",
    "plt.tight_layout()\n",
    "p.get_figure().savefig('minerals_index_cy2019.png')"
   ]
  }
 ],
 "metadata": {
  "kernelspec": {
   "display_name": "Python [conda env:dev]",
   "language": "python",
   "name": "conda-env-dev-py"
  },
  "language_info": {
   "codemirror_mode": {
    "name": "ipython",
    "version": 3
   },
   "file_extension": ".py",
   "mimetype": "text/x-python",
   "name": "python",
   "nbconvert_exporter": "python",
   "pygments_lexer": "ipython3",
   "version": "3.7.7"
  }
 },
 "nbformat": 4,
 "nbformat_minor": 4
}
